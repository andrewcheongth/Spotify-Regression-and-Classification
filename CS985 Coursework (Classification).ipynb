{
 "cells": [
  {
   "cell_type": "markdown",
   "id": "gzBRKufzooB_",
   "metadata": {
    "id": "gzBRKufzooB_"
   },
   "source": [
    "# CS985 Coursework (Classification)\n",
    "**Group 7** - Student Numbers: 202482083, 202459117, 202482007, 202481426, 202477052"
   ]
  },
  {
   "cell_type": "code",
   "execution_count": 2,
   "id": "420f6252-8bd1-4f31-b727-ebd3cde37f2a",
   "metadata": {
    "id": "420f6252-8bd1-4f31-b727-ebd3cde37f2a"
   },
   "outputs": [],
   "source": [
    "# Importing necessary libraries\n",
    "# Dataframe and mathematics\n",
    "import pandas as pd\n",
    "import numpy as np\n",
    "import matplotlib.pyplot as plt\n",
    "import seaborn as sns\n",
    "import scipy.stats as stats\n",
    "from scipy.stats import f_oneway\n",
    "import warnings\n",
    "warnings.simplefilter(action='ignore', category=UserWarning)\n",
    "# Data transformation\n",
    "import string\n",
    "from gensim.parsing.preprocessing import remove_stopwords\n",
    "from sklearn.preprocessing import OneHotEncoder, MinMaxScaler, power_transform\n",
    "# Model training\n",
    "from sklearn.model_selection import GridSearchCV, KFold, train_test_split\n",
    "from sklearn.linear_model import LogisticRegression, RidgeClassifier\n",
    "from sklearn.calibration import CalibratedClassifierCV\n",
    "from sklearn.svm import LinearSVC, SVC\n",
    "from sklearn.ensemble import VotingClassifier, StackingClassifier\n",
    "# Metrics\n",
    "from sklearn.metrics import accuracy_score\n",
    "\n",
    "# Import classification dataset\n",
    "df = pd.read_csv(\"CS98XClassificationTrain.csv\")"
   ]
  },
  {
   "cell_type": "markdown",
   "id": "B2G8vERWjGWm",
   "metadata": {
    "id": "B2G8vERWjGWm"
   },
   "source": [
    "# Exploratory Data Analysis (EDA)"
   ]
  },
  {
   "cell_type": "code",
   "execution_count": 4,
   "id": "58ed61a2-40bf-4002-a176-776ea64f0b32",
   "metadata": {
    "colab": {
     "base_uri": "https://localhost:8080/",
     "height": 115
    },
    "id": "58ed61a2-40bf-4002-a176-776ea64f0b32",
    "outputId": "c7d786d2-c9a6-4d54-ab5a-39a57fdf711d"
   },
   "outputs": [
    {
     "data": {
      "text/plain": [
       "top genre    15\n",
       "dtype: int64"
      ]
     },
     "execution_count": 4,
     "metadata": {},
     "output_type": "execute_result"
    }
   ],
   "source": [
    "# Features with missing values\n",
    "df.isna().sum()[df.isna().sum() > 0]"
   ]
  },
  {
   "cell_type": "markdown",
   "id": "ziEeyyqnPwg-",
   "metadata": {
    "id": "ziEeyyqnPwg-"
   },
   "source": [
    "We note that the dataset is very small, with only 453 instances. A small dataset may not capture the full variability of the population, while also being more susceptible to noise and outliers. We further note 15 instances of missing genres. Considering that the dataset is already so small, we were hesitant to drop these instances and were in favour of imputation instead. EDA was then performed to explore the distribution of genres in the dataset."
   ]
  },
  {
   "cell_type": "code",
   "execution_count": 6,
   "id": "0ffb3d58-956e-4f50-a194-d148df7cba47",
   "metadata": {
    "colab": {
     "base_uri": "https://localhost:8080/",
     "height": 443
    },
    "id": "0ffb3d58-956e-4f50-a194-d148df7cba47",
    "outputId": "32607a59-520a-4e78-ef21-834d2fe0dc6c"
   },
   "outputs": [
    {
     "name": "stdout",
     "output_type": "stream",
     "text": [
      "Number of unique genres: 86\n"
     ]
    },
    {
     "data": {
      "image/png": "[encoded data removed]",
      "text/plain": [
       "<Figure size 600x200 with 1 Axes>"
      ]
     },
     "metadata": {},
     "output_type": "display_data"
    },
    {
     "name": "stdout",
     "output_type": "stream",
     "text": [
      "top genre\n",
      "adult standards       68\n",
      "album rock            66\n",
      "dance pop             61\n",
      "brill building pop    16\n",
      "glam rock             16\n",
      "Name: count, dtype: int64\n"
     ]
    }
   ],
   "source": [
    "# Number of unique genres\n",
    "print('Number of unique genres:', df['top genre'].nunique())\n",
    "# Distribution of songs in each genre\n",
    "genre_counts = df['top genre'].value_counts()\n",
    "plt.figure(figsize=(6,2))\n",
    "sns.barplot(x=genre_counts.index, y=genre_counts.values)\n",
    "plt.xticks([])\n",
    "plt.show()\n",
    "print(genre_counts.head())"
   ]
  },
  {
   "cell_type": "markdown",
   "id": "hRIETPs-QKye",
   "metadata": {
    "id": "hRIETPs-QKye"
   },
   "source": [
    "We noted a very distinct class imbalance between the top 3 genres and the remaining genres in the dataset. Given the dominance of these 3 genres, mode imputation appears to be a viable method of filling the missing genres. There are 86 total genres in the training dataset, with 40 of them having only 1 song each. This would be extremely challenging for the classification model to learn meaningful relationships for these rare genres, unless features with strong predictive powers for each class exist."
   ]
  },
  {
   "cell_type": "code",
   "execution_count": 8,
   "id": "R-pC8b__ftTu",
   "metadata": {
    "colab": {
     "base_uri": "https://localhost:8080/",
     "height": 443
    },
    "id": "R-pC8b__ftTu",
    "outputId": "6c7cc291-a991-488b-f086-62c31def2c66"
   },
   "outputs": [
    {
     "name": "stdout",
     "output_type": "stream",
     "text": [
      "Number of unique artists: 345\n"
     ]
    },
    {
     "data": {
      "image/png": "[encoded data removed]",
      "text/plain": [
       "<Figure size 600x200 with 1 Axes>"
      ]
     },
     "metadata": {},
     "output_type": "display_data"
    }
   ],
   "source": [
    "# Number of unique artists\n",
    "print('Number of unique artists:', df['artist'].nunique())\n",
    "# Distribution of songs by each artist\n",
    "artist_counts = df['artist'].value_counts()\n",
    "plt.figure(figsize=(6,2))\n",
    "sns.barplot(x=artist_counts.index, y=artist_counts.values)\n",
    "plt.xticks([])\n",
    "plt.show()"
   ]
  },
  {
   "cell_type": "code",
   "execution_count": 9,
   "id": "0a4fe8fe-3bd4-4ed7-ac40-7a7926177b59",
   "metadata": {
    "colab": {
     "base_uri": "https://localhost:8080/"
    },
    "id": "0a4fe8fe-3bd4-4ed7-ac40-7a7926177b59",
    "outputId": "0866cf16-1e1d-4733-bdd2-00441d8ce607"
   },
   "outputs": [
    {
     "name": "stdout",
     "output_type": "stream",
     "text": [
      "Number of artists with only 1 song each: 278\n"
     ]
    }
   ],
   "source": [
    "# Group all artists with only 1 song under 'other_artists'\n",
    "other_artists = artist_counts[artist_counts == 1].index.tolist()\n",
    "print(f'Number of artists with only 1 song each: {len(other_artists)}')"
   ]
  },
  {
   "cell_type": "markdown",
   "id": "LmLRiPV1f5Ex",
   "metadata": {
    "id": "LmLRiPV1f5Ex"
   },
   "source": [
    "Similar to the 'top genre' feature, the distribution of artists is also somewhat imbalanced, with some artists having multiple songs in the dataset, while most (278 artists) having only 1 song at maximum. We hypothesised that music artists tend to produce songs of their favourite style. To test this hypothesis, we decided to plot a heatmap to visualise the correlations between 'top genre' and 'artist'. To reduce the complexity of the heatmap, we will group the artists and genres with only a single instance under 'other'."
   ]
  },
  {
   "cell_type": "code",
   "execution_count": 11,
   "id": "a6b7a900-7d98-42a2-8d4d-e784b45aff88",
   "metadata": {
    "colab": {
     "base_uri": "https://localhost:8080/",
     "height": 694
    },
    "id": "a6b7a900-7d98-42a2-8d4d-e784b45aff88",
    "outputId": "88dda42e-8ac0-4abb-81c4-a302b439b768"
   },
   "outputs": [
    {
     "data": {
      "image/png": "[encoded data removed]",
      "text/plain": [
       "<Figure size 700x400 with 2 Axes>"
      ]
     },
     "metadata": {},
     "output_type": "display_data"
    },
    {
     "name": "stdout",
     "output_type": "stream",
     "text": [
      "Max number of genres produced by any artist: 1\n"
     ]
    }
   ],
   "source": [
    "# Group all genres with only 1 song under 'other_genres'\n",
    "other_genres = genre_counts[genre_counts == 1].index.tolist()\n",
    "df_art_gen = pd.DataFrame(df[['artist', 'top genre']], columns=['artist', 'top genre'])\n",
    "df_art_gen['top genre'] = df_art_gen['top genre'].apply(lambda x: 'missing' if x is np.nan else x)\n",
    "df_art_gen['top genre'] = df_art_gen['top genre'].apply(lambda x: 'other' if x in other_genres else x)\n",
    "df_art_gen['artist'] = df_art_gen['artist'].apply(lambda x: 'other' if x in other_artists else x)\n",
    "df_art_gen.drop(df_art_gen[df_art_gen['artist'] == 'other'].index, inplace=True)\n",
    "df_art_gen.drop(df_art_gen[df_art_gen['top genre'] == 'other'].index, inplace=True)\n",
    "artist_genre_counts = pd.crosstab(df_art_gen['artist'], df_art_gen['top genre'])\n",
    "plt.figure(figsize=(7, 4))\n",
    "sns.heatmap(artist_genre_counts, cmap=\"rocket_r\", annot=False, linewidths=0.5)\n",
    "plt.title(\"Artist-Genre Heatmap\")\n",
    "plt.xlabel(\"Genre\")\n",
    "plt.ylabel(\"Artist\")\n",
    "plt.xticks([])\n",
    "plt.yticks([])\n",
    "plt.show()\n",
    "artist_genre_counts = df.groupby('artist')['top genre'].nunique().reset_index()\n",
    "print(f'Max number of genres produced by any artist: {max(artist_genre_counts['top genre'])}')"
   ]
  },
  {
   "cell_type": "markdown",
   "id": "P3Zvb6gux5S5",
   "metadata": {
    "id": "P3Zvb6gux5S5"
   },
   "source": [
    "The cells in above heatmap correspond to the number of songs produced by each artist in each genre. A cursory observation seemingly reveals that each artist produces songs in only 1 genre. This is confirmed after we tabulated the number of genres each artist has produced songs in, meaning there is a very strong correlation between each artist and a specific genre, making the artist's name a very strong predictor. One-hot encoding the artist columns may be a viable data transformation, although this could make the dataset extremely sparse."
   ]
  },
  {
   "cell_type": "code",
   "execution_count": 13,
   "id": "b3af0345-0001-4d4b-b9b2-fab3931b1cfc",
   "metadata": {
    "colab": {
     "base_uri": "https://localhost:8080/",
     "height": 487
    },
    "id": "b3af0345-0001-4d4b-b9b2-fab3931b1cfc",
    "outputId": "dd60b66d-1a04-488f-e9e8-ebb6b8cfb290"
   },
   "outputs": [
    {
     "data": {
      "image/png": "[encoded data removed]",
      "text/plain": [
       "<Figure size 800x200 with 1 Axes>"
      ]
     },
     "metadata": {},
     "output_type": "display_data"
    }
   ],
   "source": [
    "# Time series analysis of genres over the years\n",
    "top_genres = df['top genre'].value_counts().index[:10]\n",
    "df_top_gen = df[df['top genre'].isin(top_genres)]\n",
    "df_top_gen = df_top_gen.groupby(['year', 'top genre']).size().unstack(fill_value=0)\n",
    "ax = df_top_gen.plot(figsize=(8,2), kind='line', linewidth=1, alpha=0.7, colormap='tab10');\n",
    "plt.legend(fontsize=6)\n",
    "plt.title('Trends of Top 10 Most Common Genres Over Time');"
   ]
  },
  {
   "cell_type": "markdown",
   "id": "oSNx-H7E11_j",
   "metadata": {
    "id": "oSNx-H7E11_j"
   },
   "source": [
    "The line plot above shows the frequency of genres over time in the dataset. The most common 'adult standards' genre has had a sustained presence in the dataset over time, while 'album rock' and 'dance pop' had surges in instancces in the 1970s and 2000s respectively. This illustrates that the 'year' feature may have some predictive importance."
   ]
  },
  {
   "cell_type": "code",
   "execution_count": 15,
   "id": "9990e2cf-70f6-4ed8-803c-9b5c87c0ff67",
   "metadata": {
    "id": "9990e2cf-70f6-4ed8-803c-9b5c87c0ff67"
   },
   "outputs": [],
   "source": [
    "# Add title length column (by characters)\n",
    "df['title_chars'] = df['title'].str.len()\n",
    "# Add title length column (by words)\n",
    "df['title_words'] = df['title'].apply(lambda x: ''.join([char for char in x if char not in string.punctuation]))\n",
    "df['title_words'] = df['title_words'].apply(lambda x: ' '.join([x.lower()]))\n",
    "df['title_words'] = df['title_words'].apply(remove_stopwords)\n",
    "df['title_words'] = df['title_words'].apply(lambda x: len(x.split()))"
   ]
  },
  {
   "cell_type": "code",
   "execution_count": 16,
   "id": "07e408d2-c07a-4c78-94e3-1bf3f5a27124",
   "metadata": {
    "colab": {
     "base_uri": "https://localhost:8080/",
     "height": 1000
    },
    "id": "07e408d2-c07a-4c78-94e3-1bf3f5a27124",
    "outputId": "b3f027c3-8d04-4849-86f5-068d80aae1eb"
   },
   "outputs": [
    {
     "name": "stdout",
     "output_type": "stream",
     "text": [
      "             Skewness   Kurtosis     Variance\n",
      "title_chars  1.367433   3.349717   142.147727\n",
      "title_words  1.011517   1.051480     1.954619\n",
      "year        -0.234780  -1.119421   281.437643\n",
      "bpm          0.358070   0.059346   636.992655\n",
      "nrgy        -0.330225  -0.747531   493.074645\n",
      "dnce        -0.215154  -0.258065   239.768427\n",
      "dB          -0.685209   0.420188    12.796265\n",
      "live         2.120281   5.491427   191.277188\n",
      "val         -0.282285  -0.913984   602.205132\n",
      "dur          0.808863   1.472015  4066.661402\n",
      "acous        0.652120  -0.896153   872.021811\n",
      "spch         3.940009  18.277734    30.808953\n",
      "pop         -0.650195  -0.362839   181.443132\n"
     ]
    }
   ],
   "source": [
    "df_num = df[['title_chars', 'title_words', 'year', 'bpm', 'nrgy', 'dnce', 'dB', 'live', 'val', 'dur', 'acous', 'spch', 'pop']].copy()\n",
    "# Tabulate skewness and kurtosis\n",
    "skewness = df_num[df_num.columns].skew()\n",
    "kurtosis = df_num[df_num.columns].kurtosis()\n",
    "variance = df_num[df_num.columns].var()\n",
    "skew_kurt_df = pd.DataFrame({'Skewness': skewness, 'Kurtosis': kurtosis, 'Variance': variance})\n",
    "print(skew_kurt_df)"
   ]
  },
  {
   "cell_type": "markdown",
   "id": "ByMTRdob238C",
   "metadata": {
    "id": "ByMTRdob238C"
   },
   "source": [
    "We analysed the distributions of all the numeric columns, with the additional 'title_chars' and 'title_words' columns. High right-tailed skewness and kurtosis observed for 'title_chars', 'title_words', 'live' and 'spch' features. Applied Yeo-Johnson transformation to reduce them."
   ]
  },
  {
   "cell_type": "code",
   "execution_count": 18,
   "id": "51e21f70-2bbd-4138-b194-dfcd72f2fe9a",
   "metadata": {
    "colab": {
     "base_uri": "https://localhost:8080/"
    },
    "id": "51e21f70-2bbd-4138-b194-dfcd72f2fe9a",
    "outputId": "f1e5d531-5f12-4ed8-c0cf-5789132c1690"
   },
   "outputs": [],
   "source": [
    "# Yeo-Johnson transform skewed columns\n",
    "df_num = power_transform(df_num, method='yeo-johnson')\n",
    "# Perform scaling on numerical columns\n",
    "scaler = MinMaxScaler()\n",
    "df_num = scaler.fit_transform(df_num)\n",
    "df_num = pd.DataFrame(df_num, columns=['title_chars', 'title_words', 'year', 'bpm', 'nrgy', 'dnce', 'dB', 'live', 'val', 'dur', 'acous', 'spch', 'pop'])"
   ]
  },
  {
   "cell_type": "code",
   "execution_count": 19,
   "id": "452df1d7-9adb-4ac0-b6d1-e763e7cbcbf9",
   "metadata": {
    "colab": {
     "base_uri": "https://localhost:8080/"
    },
    "id": "452df1d7-9adb-4ac0-b6d1-e763e7cbcbf9",
    "outputId": "7f166927-e342-451c-85de-101bfb81398a"
   },
   "outputs": [
    {
     "name": "stdout",
     "output_type": "stream",
     "text": [
      "             ANOVA p-value\n",
      "dur           2.921296e-24\n",
      "pop           2.862712e-21\n",
      "nrgy          5.509877e-18\n",
      "acous         2.435229e-17\n",
      "dB            4.864357e-16\n",
      "year          6.476252e-15\n",
      "dnce          2.376198e-09\n",
      "spch          9.450160e-08\n",
      "title_words   1.351168e-02\n",
      "val           7.283903e-02\n",
      "bpm           9.415095e-02\n",
      "live          1.552768e-01\n",
      "title_chars   1.963951e-01\n"
     ]
    }
   ],
   "source": [
    "# Investigate any correlations between numerical features and top genre\n",
    "num_col = df_num.columns\n",
    "df_num_genre = pd.concat([df_num, df['top genre']], axis=1)\n",
    "mode_genre = df['top genre'].mode()[0]\n",
    "df_num_genre['top genre'] = df_num_genre['top genre'].apply(lambda x: mode_genre if x is np.nan else x)\n",
    "target = df_num_genre['top genre']\n",
    "# Perform ANOVA for each numeric column\n",
    "anova_df = {}\n",
    "for col in num_col:\n",
    "    groups = [df_num[col][target == cat] for cat in target.unique()]\n",
    "    anova_df[col] = f_oneway(*groups).pvalue\n",
    "anova_df = pd.DataFrame.from_dict(anova_df, orient='index', columns=['ANOVA p-value']).sort_values(by='ANOVA p-value')\n",
    "print(anova_df)"
   ]
  },
  {
   "cell_type": "markdown",
   "id": "d8YrUhKocvLH",
   "metadata": {
    "id": "d8YrUhKocvLH"
   },
   "source": [
    "ANOVA is used to determine if there are significant differences between the means of different categories by comparing the within-group variances with the between-group variances. The lower the p-value, the more likely that there are statistically-significant differences across groups for a particular feature, and thus the feature may be useful for the model."
   ]
  },
  {
   "cell_type": "markdown",
   "id": "975be77d-17fd-46ce-886e-d69dd03b7f63",
   "metadata": {
    "id": "975be77d-17fd-46ce-886e-d69dd03b7f63"
   },
   "source": [
    "# Dataset Transformation Pipeline"
   ]
  },
  {
   "cell_type": "markdown",
   "id": "-WsS5qCtNQTK",
   "metadata": {
    "id": "-WsS5qCtNQTK"
   },
   "source": [
    "The training dataset is reimported and put through a data transformation pipeline, ensuring that the transformations performed on the training dataset will also be performed on the test dataset. The missing genres are first imputed using mode imputation. We opted for this method due to the imbalanced nature of the dataset. A column for the number of words in the title is added. This is because based on our ANOVA analysis, the number of words in the title has a low p-value and thus could be a useful feature for the model."
   ]
  },
  {
   "cell_type": "code",
   "execution_count": 23,
   "id": "3b4157bb-a267-443b-ab28-2b6cd1b0faa0",
   "metadata": {
    "id": "3b4157bb-a267-443b-ab28-2b6cd1b0faa0"
   },
   "outputs": [],
   "source": [
    "# Reimport dataset\n",
    "df_clf = pd.read_csv(\"CS98XClassificationTrain.csv\")\n",
    "# Impute missing genre with the most common genre in the dataset\n",
    "df_clf['top genre'] = df_clf['top genre'].apply(lambda x: mode_genre if x is np.nan else x)\n",
    "# Add title length column (by words)\n",
    "df_clf['title_words'] = df_clf['title'].apply(lambda x: ''.join([char for char in x if char not in string.punctuation]))\n",
    "df_clf['title_words'] = df_clf['title_words'].apply(lambda x: ' '.join([x.lower()]))\n",
    "df_clf['title_words'] = df_clf['title_words'].apply(remove_stopwords)\n",
    "df_clf['title_words'] = df_clf['title_words'].apply(lambda x: len(x.split()))\n",
    "\n",
    "rand_state = 69 # Setting random state for train-test split and training"
   ]
  },
  {
   "cell_type": "markdown",
   "id": "a6d64a92-48ec-4eb9-bfdd-4c5af0f3b233",
   "metadata": {
    "id": "a6d64a92-48ec-4eb9-bfdd-4c5af0f3b233"
   },
   "source": [
    "One-hot encoding is applied to the artist feature to separate them into different columns. However, drop_first will not be implemented as we will lose the predictive power of that artist dropped. We had attempted to apply TF-IDF and word2vec embeddings to the 'title' and 'artist' names, followed by a PCA dimensionality reduction to these columns, but the trained models did not perform well with them. Furthermore, it only increased the dimensionality of the dataset, which made it less computationally-efficient."
   ]
  },
  {
   "cell_type": "code",
   "execution_count": 25,
   "id": "2920a36d-ccf8-44bd-b5c5-11e14b8c969b",
   "metadata": {
    "colab": {
     "base_uri": "https://localhost:8080/",
     "height": 307
    },
    "id": "2920a36d-ccf8-44bd-b5c5-11e14b8c969b",
    "outputId": "a8ba1765-efc3-4c49-f2bd-85db38f362dc"
   },
   "outputs": [],
   "source": [
    "df_artist = df_clf['artist'].reset_index(drop=True)\n",
    "df_artist = pd.get_dummies(data=df_artist)\n",
    "included_artists = df_artist.columns # Save list of artist columns for data transformation on test set"
   ]
  },
  {
   "cell_type": "markdown",
   "id": "ITi4L3jUFiMD",
   "metadata": {
    "id": "ITi4L3jUFiMD"
   },
   "source": [
    "The following features were selected due to having significantly lower ANOVA p-values, indicating their importance and differentiating features. No scaling was applied to this training data since no learning algorithm that employs distance measure was used. PCA will also not be employed as we wish to preserve the sparse nature of the one-hot encoded data. By one-hot encoding the artists, each artist gets its own separate dimension. Linear models are capable of finding the decision boundary in these high-dimensional spaces to separate the categories. As such, linear models will be favoured for this classification problem."
   ]
  },
  {
   "cell_type": "code",
   "execution_count": 27,
   "id": "820831b6-1335-4f94-babc-7a238c9a4f93",
   "metadata": {
    "id": "820831b6-1335-4f94-babc-7a238c9a4f93"
   },
   "outputs": [],
   "source": [
    "# Extract numeric columns\n",
    "num_cols = ['dur', 'pop', 'nrgy', 'acous', 'dB', 'year', 'dnce', 'spch', 'title_words', 'val']\n",
    "df_num = df_clf[num_cols].copy()\n",
    "# Apply Yeo-Johnson transformation to adjust for skewness and kurtosis\n",
    "df_num = power_transform(df_num, method='yeo-johnson')\n",
    "df_num = pd.DataFrame(df_num, columns=num_cols)\n",
    "X = pd.concat([df_artist, df_num], axis=1)\n",
    "y = df_clf['top genre']\n",
    "X_train, X_val, y_train, y_val = train_test_split(X, y, test_size=0.2, random_state = rand_state)"
   ]
  },
  {
   "cell_type": "markdown",
   "id": "de6f625d-a3c9-452e-bd08-b82143353a59",
   "metadata": {
    "id": "de6f625d-a3c9-452e-bd08-b82143353a59"
   },
   "source": [
    "The linear models we have identified are: 1) Logistic Regression - good at probabilitistic predictions, 2) Ridge Classifier - handles multicollinearity well, and 3) Linear Support Vector Classification - hinge loss objective deals with high dimensionality effectively. Thereafter, we will include the above linear models as the base estimators of the following ensemble learning models: 4) Hard Voting Classifier, 5) Soft Voting Classifier, and 6) Stacking Classifier. We have experimented training tree-based models like DecisionTreeClassifier and RandomForest, but none of them came close to the same level of accuracy that the above linear models achieved. This is mainly due to the highly sparse nature of the dataset with the 345 one-hot encoded artist columns, which tree-based models struggle to deal with."
   ]
  },
  {
   "cell_type": "code",
   "execution_count": 29,
   "id": "32a3ea40-5619-4c64-81f2-18c34337e074",
   "metadata": {
    "id": "32a3ea40-5619-4c64-81f2-18c34337e074"
   },
   "outputs": [],
   "source": [
    "models_clf = {\n",
    "    'Logistic Classifier': LogisticRegression(random_state=rand_state),\n",
    "    'Ridge Classifier': RidgeClassifier(random_state=rand_state),\n",
    "    'Linear SVM': LinearSVC(dual='auto', random_state=rand_state)\n",
    "}\n",
    "param_grids_clf = {\n",
    "    'Logistic Classifier': {'C': [0.01, 0.1, 1, 10], 'solver': ['lbfgs', 'liblinear']},\n",
    "    'Ridge Classifier': {'alpha': [0.01, 0.1, 1, 10], 'solver': ['auto', 'lsqr']},\n",
    "    'Linear SVM': {'C': [0.01, 0.1, 1, 10], 'dual': [False]}\n",
    "}"
   ]
  },
  {
   "cell_type": "code",
   "execution_count": 30,
   "id": "f1fccc6c-4e4a-4354-8590-3df219e204a1",
   "metadata": {
    "colab": {
     "base_uri": "https://localhost:8080/"
    },
    "id": "f1fccc6c-4e4a-4354-8590-3df219e204a1",
    "outputId": "dc1921de-6dd9-48bc-c454-5bc9422a89a8"
   },
   "outputs": [
    {
     "name": "stdout",
     "output_type": "stream",
     "text": [
      "Best parameters for Logistic Classifier: {'C': 10, 'solver': 'liblinear'}\n",
      "Best accuracy score for Logistic Classifier: 0.52481\n",
      "Best parameters for Ridge Classifier: {'alpha': 1, 'solver': 'auto'}\n",
      "Best accuracy score for Ridge Classifier: 0.55529\n",
      "Best parameters for Linear SVM: {'C': 1, 'dual': False}\n",
      "Best accuracy score for Linear SVM: 0.55799\n"
     ]
    }
   ],
   "source": [
    "# Fit the models\n",
    "grids_clf = {}\n",
    "for model_name, model in models_clf.items():\n",
    "    grids_clf[model_name] = GridSearchCV(estimator=model, param_grid=param_grids_clf[model_name], cv=KFold(n_splits=5, shuffle=True, random_state=rand_state), scoring='accuracy', n_jobs=-1, verbose=0)\n",
    "    grids_clf[model_name].fit(X_train, y_train)\n",
    "    best_params = grids_clf[model_name].best_params_\n",
    "    best_score = grids_clf[model_name].best_score_\n",
    "    print(f'Best parameters for {model_name}: {best_params}')\n",
    "    print(f'Best accuracy score for {model_name}: {best_score:.5f}')\n",
    "clf_log = grids_clf['Logistic Classifier']\n",
    "clf_rid = grids_clf['Ridge Classifier']\n",
    "clf_svm = grids_clf['Linear SVM']"
   ]
  },
  {
   "cell_type": "code",
   "execution_count": 31,
   "id": "c1dc57a4-521f-48b6-87ce-4d68a18cf571",
   "metadata": {
    "colab": {
     "base_uri": "https://localhost:8080/"
    },
    "id": "c1dc57a4-521f-48b6-87ce-4d68a18cf571",
    "outputId": "2d5120fb-90d1-401b-d4b9-2eb6ed29238a"
   },
   "outputs": [
    {
     "name": "stdout",
     "output_type": "stream",
     "text": [
      "Best accuracy score for Ensemble (Hard Voting): 0.52747\n",
      "Best accuracy score for Ensemble (Soft Voting): 0.51648\n",
      "Best accuracy score for Ensemble (Stacking): 0.52747\n"
     ]
    }
   ],
   "source": [
    "# Ensemble Learning (Hard Voting Classifier)\n",
    "estimators = [('Logistic Classifier', clf_log), ('Ridge Classifier', clf_rid), ('Linear SVM', clf_svm)]\n",
    "clf_hvot = VotingClassifier(estimators=estimators, voting='hard')\n",
    "clf_hvot.fit(X_train, y_train)\n",
    "y_pred = clf_hvot.predict(X_val)\n",
    "print(f'Best accuracy score for Ensemble (Hard Voting): {accuracy_score(y_val, y_pred):.5f}')\n",
    "\n",
    "# Ensemble Learning (Soft Voting Classifier)\n",
    "estimators = [('Logistic Classifier', clf_log), ('Ridge Classifier', CalibratedClassifierCV(clf_rid)), ('Linear SVM', CalibratedClassifierCV(clf_svm))]\n",
    "clf_svot = VotingClassifier(estimators=estimators, voting='soft')\n",
    "clf_svot.fit(X_train, y_train)\n",
    "y_pred = clf_svot.predict(X_val)\n",
    "print(f'Best accuracy score for Ensemble (Soft Voting): {accuracy_score(y_val, y_pred):.5f}')\n",
    "\n",
    "# Ensemble Learning (Stacking Classifier)\n",
    "estimators = [('Logistic Classifier', clf_log), ('Ridge Classifier', clf_rid), ('Linear SVM', clf_svm)]\n",
    "clf_stk = StackingClassifier(estimators=estimators, final_estimator=RidgeClassifier(alpha=0.01, solver='lsqr'), cv='prefit')\n",
    "clf_stk.fit(X_train, y_train)\n",
    "y_pred = clf_stk.predict(X_val)\n",
    "print(f'Best accuracy score for Ensemble (Stacking): {accuracy_score(y_val, y_pred):.5f}')"
   ]
  },
  {
   "cell_type": "markdown",
   "id": "h4XC6uGJdayV",
   "metadata": {
    "id": "h4XC6uGJdayV"
   },
   "source": [
    "LinearSVC performed best with an accuracy score of 0.55799, while RidgeClassifier came in close at 0.55529. Despite having the added element of diversity, the ensemble models did not perform as well (Hard Voting and Stacking at 0.52747, Soft Voting at 0.51648) as the standalone LinearSVC and RidgeClassifier models. Moreover, given that our base models (Logistic Regression, Ridge Classifier, and Linear SVC) are all linear classifiers, voting and stacking did not provide a significant advantage as they rely on a diverse set of weak learners to create a strong ensemble model. Furthermore, since our dataset has only 453 samples, adding a meta-model in stacking could increase variance without a clear benefit. Since LinearSVC obtained the highest accuracy among individual classifiers, LinearSVC was chosen as the final model."
   ]
  },
  {
   "cell_type": "code",
   "execution_count": 33,
   "id": "4e59225a-163b-4608-8e6b-e2a061c585b1",
   "metadata": {
    "id": "4e59225a-163b-4608-8e6b-e2a061c585b1"
   },
   "outputs": [],
   "source": [
    "# Dictionary to collect the final models\n",
    "final_models = {'Logistic Classifier': clf_log, 'Ridge Classifier': clf_rid, 'Linear SVM': clf_svm, 'Ensemble (Hard Voting)': clf_hvot, 'Ensemble (Soft Voting)': clf_svot, 'Ensemble (Stacking)': clf_stk}"
   ]
  },
  {
   "cell_type": "markdown",
   "id": "dbb35442-b0ec-4b50-ae98-57180effe3ab",
   "metadata": {
    "id": "dbb35442-b0ec-4b50-ae98-57180effe3ab"
   },
   "source": [
    "# Final Submission"
   ]
  },
  {
   "cell_type": "code",
   "execution_count": 35,
   "id": "9c8b5a41-b98b-4cac-9db2-b540896d9143",
   "metadata": {
    "id": "9c8b5a41-b98b-4cac-9db2-b540896d9143"
   },
   "outputs": [],
   "source": [
    "df_test = pd.read_csv('CS98XClassificationTest.csv')\n",
    "# Add title length column (by words)\n",
    "df_test['title_words'] = df_test['title'].apply(lambda x: ''.join([char for char in x if char not in string.punctuation]))\n",
    "df_test['title_words'] = df_test['title_words'].apply(lambda x: ' '.join([x.lower()]))\n",
    "df_test['title_words'] = df_test['title_words'].apply(remove_stopwords)\n",
    "df_test['title_words'] = df_test['title_words'].apply(lambda x: len(x.split()))\n",
    "# Onehot encoded artist transformations\n",
    "df_artist = pd.get_dummies(df_test['artist'])\n",
    "df_artist = df_artist.reindex(columns=included_artists, fill_value=False)\n",
    "# Numerical column transformations\n",
    "df_num = df_test[num_cols].copy()\n",
    "df_num = power_transform(df_num, method='yeo-johnson')\n",
    "df_num = pd.DataFrame(df_num, columns=num_cols)\n",
    "# Merge one-hot encoded artist columns and numeric columns\n",
    "X_test = pd.concat([df_artist, df_num], axis=1)\n",
    "# Predictions and output to .csv\n",
    "y_pred = clf_svm.predict(X_test)\n",
    "output = pd.DataFrame({'Id': df_test['Id'], 'top genre': y_pred})\n",
    "output.to_csv('submission.csv', index=False)"
   ]
  },
  {
   "cell_type": "markdown",
   "id": "ihLxy0senUui",
   "metadata": {
    "id": "ihLxy0senUui"
   },
   "source": [
    "# Kaggle Result\n",
    "Highest score: 0.62500 (model - LinearSVC)\n",
    "\n",
    "The difference between the training score of 0.55799 and the Kaggle score of 0.62500 could be due to the class imbalance observed in the training set, while the test set might have a large proportion of common genres like 'adult standards'. This would result in the model being able to make more accurate predictions."
   ]
  }
 ],
 "metadata": {
  "colab": {
   "collapsed_sections": [
    "94ce472f-8456-4504-9754-18af38a5906c"
   ],
   "provenance": []
  },
  "kernelspec": {
   "display_name": "Python 3 (ipykernel)",
   "language": "python",
   "name": "python3"
  },
  "language_info": {
   "codemirror_mode": {
    "name": "ipython",
    "version": 3
   },
   "file_extension": ".py",
   "mimetype": "text/x-python",
   "name": "python",
   "nbconvert_exporter": "python",
   "pygments_lexer": "ipython3",
   "version": "3.12.4"
  }
 },
 "nbformat": 4,
 "nbformat_minor": 5
}
